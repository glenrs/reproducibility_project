{
 "cells": [
  {
   "cell_type": "markdown",
   "metadata": {},
   "source": [
    "# Trends in use of prescription stimulants in the United States and Territories, 2006 to 2016\n",
    "\n",
    "I chose to do my reproducibility project with a graph from [this](https://journals.plos.org/plosone/article?id=10.1371/journal.pone.0206100) paper. I scraped the data from a pdf file, and filtered the lines for the lines that I wanted. It took a little bit longer than I had hoped. I can't get the colors or legends to match, but I learned a lot!"
   ]
  },
  {
   "cell_type": "code",
   "execution_count": null,
   "metadata": {},
   "outputs": [
    {
     "name": "stderr",
     "output_type": "stream",
     "text": [
      "Warning message:\n",
      "“package ‘dplyr’ was built under R version 3.5.1”\n",
      "Attaching package: ‘dplyr’\n",
      "\n",
      "The following objects are masked from ‘package:stats’:\n",
      "\n",
      "    filter, lag\n",
      "\n",
      "The following objects are masked from ‘package:base’:\n",
      "\n",
      "    intersect, setdiff, setequal, union\n",
      "\n"
     ]
    }
   ],
   "source": [
    "library(pdftools)\n",
    "library(ggplot2)\n",
    "library(dplyr)\n",
    "library(tibble)\n",
    "library(usmap)\n",
    "download.file(\"https://www.deadiversion.usdoj.gov/arcos/retail_drug_summary/report_yr_2016.pdf\",\n",
    "              \"./report_yr_2016.pdf\")\n",
    "text <- pdf_text(\"./report_yr_2016.pdf\")\n",
    "\n",
    "lines <- text[527:558] %>%\n",
    "  strsplit(\"\\n\") %>%\n",
    "  unlist() %>%\n",
    "  strsplit(\"\\\\s{2,}\")\n",
    "\n",
    "d_out <- as.tibble(as.data.frame(matrix(ncol = 3, nrow = 0, data = NA)))\n",
    "names(d_out) <- c(\"state\", \"grams_per_capita\", \"Drug\")\n",
    "for(i in 1:length(lines)) {\n",
    "  if (any(grepl(\"DRUG NAME:\", lines[[i]]))) {\n",
    "    cur_drug <- strsplit(lines[[i]][3], \":\")[[1]][2]\n",
    "    next\n",
    "  }\n",
    "  \n",
    "  if (any(grepl(\":\", lines[[i]])) | \n",
    "      any(grep(\"CUMULATIVE DISTRIBUTION\", lines[[i]])) |\n",
    "      lines[[i]][2] == \"RANK\")\n",
    "    next\n",
    "  \n",
    "  # get the state name without the number\n",
    "  state_name <- strsplit(lines[[i]][2], \" \")[[1]]\n",
    "  state_name <- paste(state_name[2:length(state_name)], collapse = \" \")\n",
    "  \n",
    "  # grams per capita\n",
    "  amount_drug <- lines[[i]][5]\n",
    "  amount_drug <- gsub(\",\", \"\", amount_drug[length(amount_drug)]) %>% as.numeric()\n",
    "  \n",
    "  d_out <- d_out %>%\n",
    "    add_row(state = state_name, grams_per_capita = amount_drug, Drug = cur_drug)\n",
    "}\n"
   ]
  },
  {
   "cell_type": "code",
   "execution_count": null,
   "metadata": {},
   "outputs": [],
   "source": [
    "# Plotting amphetamine\n",
    "d_amphetamine <- \n",
    "  d_out %>%\n",
    "  filter(Drug == \"AMPHETAMINE\") %>%\n",
    "  mutate(ratio = grams_per_capita/min(grams_per_capita)/1250*5)\n",
    "\n",
    "plot_usmap(data = d_amphetamine, values = \"ratio\") + \n",
    "  scale_fill_gradient2(name = \"Ratio\", low = \"cornsilk\", mid = \"red\", high = \"brown\", \n",
    "                        midpoint = 3, aesthetics = \"fill\",\n",
    "                        breaks = c(0.005, 1.955, 2.1, 2.7, 3.3, 5.2)) + \n",
    "  theme(legend.position = \"right\")"
   ]
  },
  {
   "cell_type": "code",
   "execution_count": null,
   "metadata": {},
   "outputs": [],
   "source": [
    "# Plotting methylphenidate\n",
    "d_methylphenidate <- \n",
    "  d_out %>%\n",
    "  filter(map_lgl(Drug, ~grepl(\"METHYLPHENIDATE\", .x))) %>%\n",
    "  mutate(ratio = grams_per_capita/min(grams_per_capita)/500*6)\n",
    "\n",
    "plot_usmap(data = d_methylphenidate, values = \"ratio\") + \n",
    "  scale_fill_gradient2(name = \"Ratio\", low = \"cornsilk\", mid = \"red\", high = \"brown\", \n",
    "                      midpoint = 3.5, aesthetics = \"fill\",\n",
    "                        breaks = c(0.014, 2.398, 3.087, 3.586, 3.9, 6.154)) + \n",
    "  theme(legend.position = \"right\")"
   ]
  },
  {
   "cell_type": "code",
   "execution_count": null,
   "metadata": {},
   "outputs": [],
   "source": [
    "# Plotting lisdexamfetamine\n",
    "d_lisdexamfetamine <- \n",
    "  d_out %>%\n",
    "  filter(map_lgl(Drug, ~grepl(\"LISDEXAMFETAMINE\", .x))) %>%\n",
    "  mutate(ratio = grams_per_capita/min(grams_per_capita)/160*22)\n",
    "\n",
    "plot_usmap(data = d_lisdexamfetamine, values = \"ratio\") + \n",
    "  scale_colour_gradient2(name = \"Ratio\", low = \"cornsilk\", mid = \"red\", high = \"brown\", \n",
    "                      midpoint = 12, aesthetics = \"fill\",\n",
    "                      breaks = c(0, 5.3, 7.2, 10.7, 12.0, 22.7)) +\n",
    "  theme(legend.position = \"right\")"
   ]
  }
 ],
 "metadata": {
  "kernelspec": {
   "display_name": "R",
   "language": "R",
   "name": "ir"
  },
  "language_info": {
   "codemirror_mode": "r",
   "file_extension": ".r",
   "mimetype": "text/x-r-source",
   "name": "R",
   "pygments_lexer": "r",
   "version": "3.5.0"
  }
 },
 "nbformat": 4,
 "nbformat_minor": 2
}
